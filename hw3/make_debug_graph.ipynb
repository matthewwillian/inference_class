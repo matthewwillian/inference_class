{
 "cells": [
  {
   "cell_type": "markdown",
   "metadata": {},
   "source": [
    "PS 3 - Question 2 <br>\n",
    "Inference and  Representation<br>\n",
    "NYU Center for Data Science<br>\n",
    "October 3, 2017\n",
    "\n",
    "It is a Python adaptation of the Matlab code provided in Brown University CS242 Homework 1:\n",
    "http://cs.brown.edu/courses/cs242/assignments/\n",
    "The factor graph library (fglib) is a Python 3 package to simulate message passing on factor graphs: https://github.com/danbar/fglib"
   ]
  },
  {
   "cell_type": "code",
   "execution_count": 58,
   "metadata": {},
   "outputs": [],
   "source": [
    "import numpy as np \n",
    "import networkx as nx\n",
    "import functools\n",
    "from fglib import graphs, nodes, rv, inference\n",
    "\n",
    "fg = graphs.FactorGraph()\n",
    "\n",
    "# Create variable nodes\n",
    "x1 = nodes.VNode(\"x1\", rv.Discrete)  # with 2 states (Bernoulli)\n",
    "x2 = nodes.VNode(\"x2\", rv.Discrete)  # with 3 states\n",
    "x3 = nodes.VNode(\"x3\", rv.Discrete)\n",
    "x4 = nodes.VNode(\"x4\", rv.Discrete)\n",
    "\n",
    "# Create factor nodes (with joint distributions)\n",
    "dist_fa = [[0.3, 0.2, 0.1],\n",
    "           [0.3, 0.0, 0.1]]\n",
    "fa = nodes.FNode(\"fa\", rv.Discrete(dist_fa, x1, x2))\n",
    "\n",
    "dist_fb = [[0.3, 0.2],\n",
    "           [0.3, 0.0],\n",
    "           [0.1, 0.1]]\n",
    "fb = nodes.FNode(\"fb\", rv.Discrete(dist_fb, x2, x3))\n",
    "\n",
    "dist_fc = [[0.3, 0.2],\n",
    "           [0.3, 0.0],\n",
    "           [0.1, 0.1]]\n",
    "fc = nodes.FNode(\"fc\", rv.Discrete(dist_fc, x2, x4))\n",
    "\n",
    "# Add nodes to factor graph\n",
    "fg.set_nodes([x1, x2, x3, x4])\n",
    "fg.set_nodes([fa, fb, fc])\n",
    "\n",
    "# Add edges to factor graph\n",
    "fg.set_edge(x1, fa)\n",
    "fg.set_edge(fa, x2)\n",
    "fg.set_edge(x2, fb)\n",
    "fg.set_edge(fb, x3)\n",
    "fg.set_edge(x2, fc)\n",
    "fg.set_edge(fc, x4)\n",
    "\n",
    "# Perform sum-product algorithm on factor graph\n",
    "# and request belief of variable node x4\n",
    "#  belief = inference.sum_product(fg, x4)\n"
   ]
  },
  {
   "cell_type": "code",
   "execution_count": 124,
   "metadata": {},
   "outputs": [
    {
     "data": {
      "text/plain": [
       "array([0.55113636, 0.44886364])"
      ]
     },
     "execution_count": 124,
     "metadata": {},
     "output_type": "execute_result"
    }
   ],
   "source": [
    "inference."
   ]
  },
  {
   "cell_type": "code",
   "execution_count": 93,
   "metadata": {},
   "outputs": [],
   "source": [
    "v = fa.factor.dim[0]"
   ]
  },
  {
   "cell_type": "code",
   "execution_count": 106,
   "metadata": {},
   "outputs": [
    {
     "ename": "AttributeError",
     "evalue": "'NoneType' object has no attribute 'normalize'",
     "output_type": "error",
     "traceback": [
      "\u001b[0;31m---------------------------------------------------------------------------\u001b[0m",
      "\u001b[0;31mAttributeError\u001b[0m                            Traceback (most recent call last)",
      "\u001b[0;32m<ipython-input-106-a02037bc3277>\u001b[0m in \u001b[0;36m<module>\u001b[0;34m()\u001b[0m\n\u001b[0;32m----> 1\u001b[0;31m \u001b[0mv\u001b[0m\u001b[0;34m.\u001b[0m\u001b[0mbelief\u001b[0m\u001b[0;34m(\u001b[0m\u001b[0;34m)\u001b[0m\u001b[0;34m\u001b[0m\u001b[0m\n\u001b[0m",
      "\u001b[0;32m~/Envs/inference_class/lib/python3.5/site-packages/fglib/nodes.py\u001b[0m in \u001b[0;36mbelief\u001b[0;34m(self, normalize)\u001b[0m\n\u001b[1;32m    140\u001b[0m \u001b[0;34m\u001b[0m\u001b[0m\n\u001b[1;32m    141\u001b[0m         \u001b[0;32mif\u001b[0m \u001b[0mnormalize\u001b[0m\u001b[0;34m:\u001b[0m\u001b[0;34m\u001b[0m\u001b[0m\n\u001b[0;32m--> 142\u001b[0;31m             \u001b[0mbelief\u001b[0m \u001b[0;34m=\u001b[0m \u001b[0mbelief\u001b[0m\u001b[0;34m.\u001b[0m\u001b[0mnormalize\u001b[0m\u001b[0;34m(\u001b[0m\u001b[0;34m)\u001b[0m\u001b[0;34m\u001b[0m\u001b[0m\n\u001b[0m\u001b[1;32m    143\u001b[0m \u001b[0;34m\u001b[0m\u001b[0m\n\u001b[1;32m    144\u001b[0m         \u001b[0;32mreturn\u001b[0m \u001b[0mbelief\u001b[0m\u001b[0;34m\u001b[0m\u001b[0m\n",
      "\u001b[0;31mAttributeError\u001b[0m: 'NoneType' object has no attribute 'normalize'"
     ]
    }
   ],
   "source": [
    "v.belief()"
   ]
  },
  {
   "cell_type": "code",
   "execution_count": 99,
   "metadata": {},
   "outputs": [
    {
     "name": "stdout",
     "output_type": "stream",
     "text": [
      "x1 2\n",
      "x2 3\n"
     ]
    }
   ],
   "source": [
    "for name, shape in zip(fa.factor.dim, fa.factor.pmf.shape):\n",
    "    print(name, shape)"
   ]
  },
  {
   "cell_type": "code",
   "execution_count": 111,
   "metadata": {},
   "outputs": [
    {
     "ename": "TypeError",
     "evalue": "'int' object is not iterable",
     "output_type": "error",
     "traceback": [
      "\u001b[0;31m---------------------------------------------------------------------------\u001b[0m",
      "\u001b[0;31mTypeError\u001b[0m                                 Traceback (most recent call last)",
      "\u001b[0;32m<ipython-input-111-de11c294bd98>\u001b[0m in \u001b[0;36m<module>\u001b[0;34m()\u001b[0m\n\u001b[0;32m----> 1\u001b[0;31m \u001b[0mfg\u001b[0m\u001b[0;34m.\u001b[0m\u001b[0medges\u001b[0m\u001b[0;34m[\u001b[0m\u001b[0;36m0\u001b[0m\u001b[0;34m]\u001b[0m\u001b[0;34m\u001b[0m\u001b[0m\n\u001b[0m",
      "\u001b[0;32m~/Envs/inference_class/lib/python3.5/site-packages/networkx/classes/reportviews.py\u001b[0m in \u001b[0;36m__getitem__\u001b[0;34m(self, e)\u001b[0m\n\u001b[1;32m    927\u001b[0m     \u001b[0;31m# Mapping Methods\u001b[0m\u001b[0;34m\u001b[0m\u001b[0;34m\u001b[0m\u001b[0m\n\u001b[1;32m    928\u001b[0m     \u001b[0;32mdef\u001b[0m \u001b[0m__getitem__\u001b[0m\u001b[0;34m(\u001b[0m\u001b[0mself\u001b[0m\u001b[0;34m,\u001b[0m \u001b[0me\u001b[0m\u001b[0;34m)\u001b[0m\u001b[0;34m:\u001b[0m\u001b[0;34m\u001b[0m\u001b[0m\n\u001b[0;32m--> 929\u001b[0;31m         \u001b[0mu\u001b[0m\u001b[0;34m,\u001b[0m \u001b[0mv\u001b[0m \u001b[0;34m=\u001b[0m \u001b[0me\u001b[0m\u001b[0;34m\u001b[0m\u001b[0m\n\u001b[0m\u001b[1;32m    930\u001b[0m         \u001b[0;32mreturn\u001b[0m \u001b[0mself\u001b[0m\u001b[0;34m.\u001b[0m\u001b[0m_adjdict\u001b[0m\u001b[0;34m[\u001b[0m\u001b[0mu\u001b[0m\u001b[0;34m]\u001b[0m\u001b[0;34m[\u001b[0m\u001b[0mv\u001b[0m\u001b[0;34m]\u001b[0m\u001b[0;34m\u001b[0m\u001b[0m\n\u001b[1;32m    931\u001b[0m \u001b[0;34m\u001b[0m\u001b[0m\n",
      "\u001b[0;31mTypeError\u001b[0m: 'int' object is not iterable"
     ]
    }
   ],
   "source": []
  },
  {
   "cell_type": "code",
   "execution_count": 83,
   "metadata": {},
   "outputs": [
    {
     "name": "stdout",
     "output_type": "stream",
     "text": [
      "(<fglib.nodes.VNode object at 0x7ffa25044e10>, <fglib.nodes.FNode object at 0x7ffa25050048>)\n"
     ]
    }
   ],
   "source": [
    "for x in fg.edges:\n",
    "    print(x)\n",
    "    break"
   ]
  },
  {
   "cell_type": "code",
   "execution_count": 12,
   "metadata": {},
   "outputs": [
    {
     "name": "stdout",
     "output_type": "stream",
     "text": [
      "[0.55113636 0.44886364]\n"
     ]
    }
   ],
   "source": [
    "print(inference.sum_product(fg))\n"
   ]
  },
  {
   "cell_type": "code",
   "execution_count": 115,
   "metadata": {},
   "outputs": [
    {
     "data": {
      "text/plain": [
       "<bound method Edge.set_message of <fglib.edges.Edge object at 0x7ffa25044ef0>>"
      ]
     },
     "execution_count": 115,
     "metadata": {},
     "output_type": "execute_result"
    }
   ],
   "source": [
    "fg.get_edge_data(x1, fa)['object'].set_message"
   ]
  },
  {
   "cell_type": "code",
   "execution_count": 122,
   "metadata": {},
   "outputs": [
    {
     "data": {
      "text/plain": [
       "<fglib.rv.Discrete at 0x7ffa25044f60>"
      ]
     },
     "execution_count": 122,
     "metadata": {},
     "output_type": "execute_result"
    }
   ],
   "source": [
    "fa.factor."
   ]
  },
  {
   "cell_type": "code",
   "execution_count": null,
   "metadata": {},
   "outputs": [],
   "source": [
    "fa.factor.marginalize"
   ]
  },
  {
   "cell_type": "code",
   "execution_count": 107,
   "metadata": {},
   "outputs": [
    {
     "ename": "IndentationError",
     "evalue": "expected an indented block (<ipython-input-107-d55e7f689333>, line 49)",
     "output_type": "error",
     "traceback": [
      "\u001b[0;36m  File \u001b[0;32m\"<ipython-input-107-d55e7f689333>\"\u001b[0;36m, line \u001b[0;32m49\u001b[0m\n\u001b[0;31m    def check_convergence():\u001b[0m\n\u001b[0m      ^\u001b[0m\n\u001b[0;31mIndentationError\u001b[0m\u001b[0;31m:\u001b[0m expected an indented block\n"
     ]
    }
   ],
   "source": [
    "def get_variable_dimensions(factor_graph):\n",
    "    variable_dimensions = {}\n",
    "    for factor in self.factor_graph.get_fnodes():\n",
    "        for (varible, shape) in zip(factor.factor.dim, factor.factor.pmf.shape):\n",
    "            if (variable in variable_dimensions) and (variable_dimensions[variable] != shape):\n",
    "                raise ValueError(\"Variable {} has inconsistent shape!\".format(variable.__str__()))\n",
    "            else:\n",
    "                variable_dimensions[variable] = shape\n",
    "    return variable_dimensions\n",
    "\n",
    "\n",
    "\n",
    "class MessageCalculator:\n",
    "    def __init__(factor_graph):\n",
    "        self.factor_graph = factor_graph\n",
    "        \n",
    "        self.variable_dimensions = get_variable_dimensions(factor_graph)\n",
    "        \n",
    "    def update_f_to_v():\n",
    "        for factor in self.factor_graph.edges:\n",
    "            for varible in self.factor_graph.neighbors(factor):\n",
    "                msg = self.f_to_v_log_msg(factor, variable)\n",
    "                        \n",
    "    def f_to_v_log_msg(f, x):\n",
    "        log_summands = []\n",
    "        for y, shape in self.variable_dimensions.items():\n",
    "            if var != variable:\n",
    "                to_sum = []\n",
    "                for i in range(shape):\n",
    "                    varible[]\n",
    "        \n",
    "    def update_v_to_f():\n",
    "        \n",
    "    def set_log_message(u, v, msg):\n",
    "        (self.factor_graph\n",
    "         .get_edge_data(u, v)['object']\n",
    "         .set_message(msg))\n",
    "        \n",
    "    def get_log_message(u, v):\n",
    "        return (self.factor_graph\n",
    "                .get_edge_data(u, v)['object']\n",
    "                .get_message(msg))\n",
    "\n",
    "\n",
    "\n",
    "def get_beliefs(fg):\n",
    "    \n",
    "\n",
    "fg=make_debug_graph()\n",
    "\n",
    "beliefs = get_beliefs(fg)\n",
    "# Print belief of variable nodes\n",
    "print(\"Belief of variable nodes \")\n",
    "print(beliefs)"
   ]
  },
  {
   "cell_type": "markdown",
   "metadata": {},
   "source": [
    "  "
   ]
  }
 ],
 "metadata": {
  "anaconda-cloud": {},
  "celltoolbar": "Raw Cell Format",
  "kernelspec": {
   "display_name": "Python 3",
   "language": "python",
   "name": "python3"
  },
  "language_info": {
   "codemirror_mode": {
    "name": "ipython",
    "version": 3
   },
   "file_extension": ".py",
   "mimetype": "text/x-python",
   "name": "python",
   "nbconvert_exporter": "python",
   "pygments_lexer": "ipython3",
   "version": "3.5.2"
  }
 },
 "nbformat": 4,
 "nbformat_minor": 1
}
